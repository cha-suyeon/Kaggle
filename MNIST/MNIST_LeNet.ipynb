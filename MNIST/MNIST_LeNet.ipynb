version https://git-lfs.github.com/spec/v1
oid sha256:a08896df1dc629f49a4e01fb4f6c1f39bafbdebc406c65847e4feab5300dc34e
size 439825
