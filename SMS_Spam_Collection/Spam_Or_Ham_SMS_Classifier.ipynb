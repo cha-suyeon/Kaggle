{
  "cells": [
    {
      "cell_type": "markdown",
      "metadata": {
        "id": "-g-W1dTCq19e"
      },
      "source": [
        "## SMS Spam Collection 📱🤖📲\n",
        "- [kaggle link](https://www.kaggle.com/datasets/uciml/sms-spam-collection-dataset?datasetId=483&sortBy=voteCount)\n",
        "\n",
        "<br/>\n",
        "\n",
        "### 📃 Context\n",
        "- The SMS Spam Collection is a set of SMS tagged messages that have been collected for SMS Spam ressearch. It contains one set of SMS messages in English of 5m574 messages, tagged acording being ham (legitimate) or spam.\n",
        "\n",
        "### 📌 Goals\n",
        "\n",
        "- In this notebook I will discuss a overview of the basics of Natural Lagnuage Processing, which basically consists of combining machine learning techniques with text and build a prediction model that will accurately classify which texts are spam.\n",
        "\n",
        "<br/>\n",
        "\n",
        "### 📝 Agenda\n",
        "\n",
        "In this kernel I explore some common techniques of NLP like:\n",
        "\n",
        "1. Representing text as numerical data\n",
        "2. Reading a text-based dataset into pandas\n",
        "3. Vectorize our dataset\n",
        "4. Building and evaluating a model\n",
        "5. Comparing models\n",
        "6. Examining a model for further insight\n",
        "\n",
        "<br/>\n",
        "\n",
        "### 🗂️ Table of Contents\n",
        "\n",
        "1. IMPORTING LIBRARIES\n",
        "2. LOADING DATA\n",
        "3. DATA EXPLORATION\n",
        "  - 3.1 FEATURE ENGINEERING\n",
        "  - 3.2 DATA VISUALIZATION\n",
        "4. DATA PREPROCESSING\n",
        "  - 4.1 COUNTING NORMALIZATION\n",
        "  - 4.2 VECTORIZATION\n",
        "  - 4.3 TF-IDF?\n",
        "5. MODEL TRAINING\n",
        "6. MODEL EVALUATION\n",
        "7. TRAIN TEST SPLIT\n",
        "8. DATA PIPELINE"
      ]
    },
    {
      "cell_type": "markdown",
      "metadata": {
        "id": "PpT1WmWAq_fc"
      },
      "source": [
        "### Reference\n",
        "\n",
        "- [Natural Language Processing (NLP)🧾for Beginners](https://www.kaggle.com/code/faressayah/natural-language-processing-nlp-for-beginners)\n",
        "- [Spam Or Ham: SMS Classifier](https://www.kaggle.com/code/karnikakapoor/spam-or-ham-sms-classifier)\n",
        "- [Natural Language Processing with Python](https://www.kaggle.com/code/ravichaubey1506/natural-language-processing-with-python)\n",
        "- [SMS: Spam or Ham (Beginner)](https://www.kaggle.com/code/dejavu23/sms-spam-or-ham-beginner)"
      ]
    },
    {
      "cell_type": "code",
      "execution_count": 42,
      "metadata": {
        "colab": {
          "base_uri": "https://localhost:8080/"
        },
        "id": "eAcIUi_5sAky",
        "outputId": "bc222d4f-5133-4e72-c83f-dd0d61ec3392"
      },
      "outputs": [
        {
          "name": "stdout",
          "output_type": "stream",
          "text": [
            "Drive already mounted at /content/drive; to attempt to forcibly remount, call drive.mount(\"/content/drive\", force_remount=True).\n"
          ]
        }
      ],
      "source": [
        "# google drive\n",
        "from google.colab import drive\n",
        "drive.mount('/content/drive')"
      ]
    },
    {
      "cell_type": "code",
      "execution_count": 43,
      "metadata": {
        "colab": {
          "base_uri": "https://localhost:8080/"
        },
        "id": "kMsniAh8sI01",
        "outputId": "0cc3069a-7122-4d0b-bdb5-9ad4e13ee7ea"
      },
      "outputs": [
        {
          "name": "stdout",
          "output_type": "stream",
          "text": [
            "/content/drive/MyDrive/kaggle/SMS_Spam_Collection\n"
          ]
        }
      ],
      "source": [
        "# change directory\n",
        "%cd /content/drive/MyDrive/kaggle/SMS_Spam_Collection\n",
        "\n",
        "# decompress the file\n",
        "# !unzip archive.zip"
      ]
    },
    {
      "cell_type": "markdown",
      "metadata": {
        "id": "mm_0BGyGq_j9"
      },
      "source": [
        "## 1. Import libraries"
      ]
    },
    {
      "cell_type": "code",
      "execution_count": 44,
      "metadata": {
        "id": "eKj4MEV7q_ma"
      },
      "outputs": [],
      "source": [
        "#Importing all the libraries to be used\n",
        "import warnings\n",
        "warnings.filterwarnings(action='ignore')\n",
        "\n",
        "import matplotlib.pyplot as plt\n",
        "import seaborn as sns\n",
        "import numpy as np \n",
        "import pandas as pd\n",
        "import re\n",
        "import nltk\n",
        "from nltk.corpus import stopwords\n",
        "from nltk.stem.porter import PorterStemmer\n",
        "from nltk.stem import WordNetLemmatizer\n",
        "from sklearn.feature_extraction.text import TfidfVectorizer\n",
        "from sklearn.preprocessing import LabelEncoder\n",
        "from sklearn.model_selection import train_test_split\n",
        "from sklearn.pipeline import Pipeline    \n",
        "from sklearn.naive_bayes import MultinomialNB\n",
        "from sklearn.ensemble import RandomForestClassifier\n",
        "from sklearn.neighbors import KNeighborsClassifier\n",
        "from sklearn.svm import SVC\n",
        "from sklearn.model_selection import cross_val_score\n",
        "from matplotlib.colors import ListedColormap\n",
        "from sklearn.metrics import precision_score, recall_score, plot_confusion_matrix, classification_report, accuracy_score, f1_score\n",
        "from sklearn import metrics"
      ]
    },
    {
      "cell_type": "markdown",
      "metadata": {
        "id": "-tLbRwcuq_oy"
      },
      "source": [
        "## 2. Loading Data"
      ]
    },
    {
      "cell_type": "code",
      "execution_count": 45,
      "metadata": {
        "colab": {
          "base_uri": "https://localhost:8080/",
          "height": 337
        },
        "id": "edga0zp5q_rM",
        "outputId": "6d5e32e3-27de-43d1-b01a-61355bf57b86"
      },
      "outputs": [
        {
          "data": {
            "text/html": [
              "\n",
              "  <div id=\"df-e0c6ab96-ee5a-4b40-b66e-947936eff077\">\n",
              "    <div class=\"colab-df-container\">\n",
              "      <div>\n",
              "<style scoped>\n",
              "    .dataframe tbody tr th:only-of-type {\n",
              "        vertical-align: middle;\n",
              "    }\n",
              "\n",
              "    .dataframe tbody tr th {\n",
              "        vertical-align: top;\n",
              "    }\n",
              "\n",
              "    .dataframe thead th {\n",
              "        text-align: right;\n",
              "    }\n",
              "</style>\n",
              "<table border=\"1\" class=\"dataframe\">\n",
              "  <thead>\n",
              "    <tr style=\"text-align: right;\">\n",
              "      <th></th>\n",
              "      <th>v1</th>\n",
              "      <th>v2</th>\n",
              "      <th>Unnamed: 2</th>\n",
              "      <th>Unnamed: 3</th>\n",
              "      <th>Unnamed: 4</th>\n",
              "    </tr>\n",
              "  </thead>\n",
              "  <tbody>\n",
              "    <tr>\n",
              "      <th>0</th>\n",
              "      <td>ham</td>\n",
              "      <td>Go until jurong point, crazy.. Available only ...</td>\n",
              "      <td>NaN</td>\n",
              "      <td>NaN</td>\n",
              "      <td>NaN</td>\n",
              "    </tr>\n",
              "    <tr>\n",
              "      <th>1</th>\n",
              "      <td>ham</td>\n",
              "      <td>Ok lar... Joking wif u oni...</td>\n",
              "      <td>NaN</td>\n",
              "      <td>NaN</td>\n",
              "      <td>NaN</td>\n",
              "    </tr>\n",
              "    <tr>\n",
              "      <th>2</th>\n",
              "      <td>spam</td>\n",
              "      <td>Free entry in 2 a wkly comp to win FA Cup fina...</td>\n",
              "      <td>NaN</td>\n",
              "      <td>NaN</td>\n",
              "      <td>NaN</td>\n",
              "    </tr>\n",
              "    <tr>\n",
              "      <th>3</th>\n",
              "      <td>ham</td>\n",
              "      <td>U dun say so early hor... U c already then say...</td>\n",
              "      <td>NaN</td>\n",
              "      <td>NaN</td>\n",
              "      <td>NaN</td>\n",
              "    </tr>\n",
              "    <tr>\n",
              "      <th>4</th>\n",
              "      <td>ham</td>\n",
              "      <td>Nah I don't think he goes to usf, he lives aro...</td>\n",
              "      <td>NaN</td>\n",
              "      <td>NaN</td>\n",
              "      <td>NaN</td>\n",
              "    </tr>\n",
              "  </tbody>\n",
              "</table>\n",
              "</div>\n",
              "      <button class=\"colab-df-convert\" onclick=\"convertToInteractive('df-e0c6ab96-ee5a-4b40-b66e-947936eff077')\"\n",
              "              title=\"Convert this dataframe to an interactive table.\"\n",
              "              style=\"display:none;\">\n",
              "        \n",
              "  <svg xmlns=\"http://www.w3.org/2000/svg\" height=\"24px\"viewBox=\"0 0 24 24\"\n",
              "       width=\"24px\">\n",
              "    <path d=\"M0 0h24v24H0V0z\" fill=\"none\"/>\n",
              "    <path d=\"M18.56 5.44l.94 2.06.94-2.06 2.06-.94-2.06-.94-.94-2.06-.94 2.06-2.06.94zm-11 1L8.5 8.5l.94-2.06 2.06-.94-2.06-.94L8.5 2.5l-.94 2.06-2.06.94zm10 10l.94 2.06.94-2.06 2.06-.94-2.06-.94-.94-2.06-.94 2.06-2.06.94z\"/><path d=\"M17.41 7.96l-1.37-1.37c-.4-.4-.92-.59-1.43-.59-.52 0-1.04.2-1.43.59L10.3 9.45l-7.72 7.72c-.78.78-.78 2.05 0 2.83L4 21.41c.39.39.9.59 1.41.59.51 0 1.02-.2 1.41-.59l7.78-7.78 2.81-2.81c.8-.78.8-2.07 0-2.86zM5.41 20L4 18.59l7.72-7.72 1.47 1.35L5.41 20z\"/>\n",
              "  </svg>\n",
              "      </button>\n",
              "      \n",
              "  <style>\n",
              "    .colab-df-container {\n",
              "      display:flex;\n",
              "      flex-wrap:wrap;\n",
              "      gap: 12px;\n",
              "    }\n",
              "\n",
              "    .colab-df-convert {\n",
              "      background-color: #E8F0FE;\n",
              "      border: none;\n",
              "      border-radius: 50%;\n",
              "      cursor: pointer;\n",
              "      display: none;\n",
              "      fill: #1967D2;\n",
              "      height: 32px;\n",
              "      padding: 0 0 0 0;\n",
              "      width: 32px;\n",
              "    }\n",
              "\n",
              "    .colab-df-convert:hover {\n",
              "      background-color: #E2EBFA;\n",
              "      box-shadow: 0px 1px 2px rgba(60, 64, 67, 0.3), 0px 1px 3px 1px rgba(60, 64, 67, 0.15);\n",
              "      fill: #174EA6;\n",
              "    }\n",
              "\n",
              "    [theme=dark] .colab-df-convert {\n",
              "      background-color: #3B4455;\n",
              "      fill: #D2E3FC;\n",
              "    }\n",
              "\n",
              "    [theme=dark] .colab-df-convert:hover {\n",
              "      background-color: #434B5C;\n",
              "      box-shadow: 0px 1px 3px 1px rgba(0, 0, 0, 0.15);\n",
              "      filter: drop-shadow(0px 1px 2px rgba(0, 0, 0, 0.3));\n",
              "      fill: #FFFFFF;\n",
              "    }\n",
              "  </style>\n",
              "\n",
              "      <script>\n",
              "        const buttonEl =\n",
              "          document.querySelector('#df-e0c6ab96-ee5a-4b40-b66e-947936eff077 button.colab-df-convert');\n",
              "        buttonEl.style.display =\n",
              "          google.colab.kernel.accessAllowed ? 'block' : 'none';\n",
              "\n",
              "        async function convertToInteractive(key) {\n",
              "          const element = document.querySelector('#df-e0c6ab96-ee5a-4b40-b66e-947936eff077');\n",
              "          const dataTable =\n",
              "            await google.colab.kernel.invokeFunction('convertToInteractive',\n",
              "                                                     [key], {});\n",
              "          if (!dataTable) return;\n",
              "\n",
              "          const docLinkHtml = 'Like what you see? Visit the ' +\n",
              "            '<a target=\"_blank\" href=https://colab.research.google.com/notebooks/data_table.ipynb>data table notebook</a>'\n",
              "            + ' to learn more about interactive tables.';\n",
              "          element.innerHTML = '';\n",
              "          dataTable['output_type'] = 'display_data';\n",
              "          await google.colab.output.renderOutput(dataTable, element);\n",
              "          const docLink = document.createElement('div');\n",
              "          docLink.innerHTML = docLinkHtml;\n",
              "          element.appendChild(docLink);\n",
              "        }\n",
              "      </script>\n",
              "    </div>\n",
              "  </div>\n",
              "  "
            ],
            "text/plain": [
              "     v1                                                 v2 Unnamed: 2  \\\n",
              "0   ham  Go until jurong point, crazy.. Available only ...        NaN   \n",
              "1   ham                      Ok lar... Joking wif u oni...        NaN   \n",
              "2  spam  Free entry in 2 a wkly comp to win FA Cup fina...        NaN   \n",
              "3   ham  U dun say so early hor... U c already then say...        NaN   \n",
              "4   ham  Nah I don't think he goes to usf, he lives aro...        NaN   \n",
              "\n",
              "  Unnamed: 3 Unnamed: 4  \n",
              "0        NaN        NaN  \n",
              "1        NaN        NaN  \n",
              "2        NaN        NaN  \n",
              "3        NaN        NaN  \n",
              "4        NaN        NaN  "
            ]
          },
          "execution_count": 45,
          "metadata": {},
          "output_type": "execute_result"
        }
      ],
      "source": [
        "data = pd.read_csv('spam.csv', encoding='latin-1')\n",
        "data.head()"
      ]
    },
    {
      "cell_type": "code",
      "execution_count": 46,
      "metadata": {
        "colab": {
          "base_uri": "https://localhost:8080/"
        },
        "id": "9B8kucJaq_tr",
        "outputId": "e22712da-846b-42d9-c85a-f9947a75366d"
      },
      "outputs": [
        {
          "name": "stdout",
          "output_type": "stream",
          "text": [
            "<class 'pandas.core.frame.DataFrame'>\n",
            "RangeIndex: 5572 entries, 0 to 5571\n",
            "Data columns (total 5 columns):\n",
            " #   Column      Non-Null Count  Dtype \n",
            "---  ------      --------------  ----- \n",
            " 0   v1          5572 non-null   object\n",
            " 1   v2          5572 non-null   object\n",
            " 2   Unnamed: 2  50 non-null     object\n",
            " 3   Unnamed: 3  12 non-null     object\n",
            " 4   Unnamed: 4  6 non-null      object\n",
            "dtypes: object(5)\n",
            "memory usage: 217.8+ KB\n"
          ]
        }
      ],
      "source": [
        "data.info()"
      ]
    },
    {
      "cell_type": "markdown",
      "metadata": {
        "id": "dm_qmN6pq_v-"
      },
      "source": [
        "#### Get an overview of the dataset.\n",
        "- Columns 2, 3, 4 contains no important data and can be deleted.\n",
        "- Also, we rename column v1 as 'label' and v2 as 'text'."
      ]
    },
    {
      "cell_type": "code",
      "execution_count": 47,
      "metadata": {
        "id": "A8jsWCiUq_yT"
      },
      "outputs": [],
      "source": [
        "# Dropping the redundent looking collumns (for this project)\n",
        "data = data.drop(['Unnamed: 2',\t'Unnamed: 3',\t'Unnamed: 4'], axis = 1)\n",
        "\n",
        "# Renaming the columns because I feel fancy today \n",
        "data.rename(columns = {\"v1\":\"target\", \"v2\":\"text\"}, inplace = True)"
      ]
    },
    {
      "cell_type": "code",
      "execution_count": 48,
      "metadata": {
        "colab": {
          "base_uri": "https://localhost:8080/",
          "height": 206
        },
        "id": "1ekA0rtiq_0z",
        "outputId": "8d5e0b89-47cb-462e-9d98-4179636d453a"
      },
      "outputs": [
        {
          "data": {
            "text/html": [
              "\n",
              "  <div id=\"df-50f14ac0-eb62-4538-a61a-1b21b901d179\">\n",
              "    <div class=\"colab-df-container\">\n",
              "      <div>\n",
              "<style scoped>\n",
              "    .dataframe tbody tr th:only-of-type {\n",
              "        vertical-align: middle;\n",
              "    }\n",
              "\n",
              "    .dataframe tbody tr th {\n",
              "        vertical-align: top;\n",
              "    }\n",
              "\n",
              "    .dataframe thead th {\n",
              "        text-align: right;\n",
              "    }\n",
              "</style>\n",
              "<table border=\"1\" class=\"dataframe\">\n",
              "  <thead>\n",
              "    <tr style=\"text-align: right;\">\n",
              "      <th></th>\n",
              "      <th>target</th>\n",
              "      <th>text</th>\n",
              "    </tr>\n",
              "  </thead>\n",
              "  <tbody>\n",
              "    <tr>\n",
              "      <th>0</th>\n",
              "      <td>ham</td>\n",
              "      <td>Go until jurong point, crazy.. Available only ...</td>\n",
              "    </tr>\n",
              "    <tr>\n",
              "      <th>1</th>\n",
              "      <td>ham</td>\n",
              "      <td>Ok lar... Joking wif u oni...</td>\n",
              "    </tr>\n",
              "    <tr>\n",
              "      <th>2</th>\n",
              "      <td>spam</td>\n",
              "      <td>Free entry in 2 a wkly comp to win FA Cup fina...</td>\n",
              "    </tr>\n",
              "    <tr>\n",
              "      <th>3</th>\n",
              "      <td>ham</td>\n",
              "      <td>U dun say so early hor... U c already then say...</td>\n",
              "    </tr>\n",
              "    <tr>\n",
              "      <th>4</th>\n",
              "      <td>ham</td>\n",
              "      <td>Nah I don't think he goes to usf, he lives aro...</td>\n",
              "    </tr>\n",
              "  </tbody>\n",
              "</table>\n",
              "</div>\n",
              "      <button class=\"colab-df-convert\" onclick=\"convertToInteractive('df-50f14ac0-eb62-4538-a61a-1b21b901d179')\"\n",
              "              title=\"Convert this dataframe to an interactive table.\"\n",
              "              style=\"display:none;\">\n",
              "        \n",
              "  <svg xmlns=\"http://www.w3.org/2000/svg\" height=\"24px\"viewBox=\"0 0 24 24\"\n",
              "       width=\"24px\">\n",
              "    <path d=\"M0 0h24v24H0V0z\" fill=\"none\"/>\n",
              "    <path d=\"M18.56 5.44l.94 2.06.94-2.06 2.06-.94-2.06-.94-.94-2.06-.94 2.06-2.06.94zm-11 1L8.5 8.5l.94-2.06 2.06-.94-2.06-.94L8.5 2.5l-.94 2.06-2.06.94zm10 10l.94 2.06.94-2.06 2.06-.94-2.06-.94-.94-2.06-.94 2.06-2.06.94z\"/><path d=\"M17.41 7.96l-1.37-1.37c-.4-.4-.92-.59-1.43-.59-.52 0-1.04.2-1.43.59L10.3 9.45l-7.72 7.72c-.78.78-.78 2.05 0 2.83L4 21.41c.39.39.9.59 1.41.59.51 0 1.02-.2 1.41-.59l7.78-7.78 2.81-2.81c.8-.78.8-2.07 0-2.86zM5.41 20L4 18.59l7.72-7.72 1.47 1.35L5.41 20z\"/>\n",
              "  </svg>\n",
              "      </button>\n",
              "      \n",
              "  <style>\n",
              "    .colab-df-container {\n",
              "      display:flex;\n",
              "      flex-wrap:wrap;\n",
              "      gap: 12px;\n",
              "    }\n",
              "\n",
              "    .colab-df-convert {\n",
              "      background-color: #E8F0FE;\n",
              "      border: none;\n",
              "      border-radius: 50%;\n",
              "      cursor: pointer;\n",
              "      display: none;\n",
              "      fill: #1967D2;\n",
              "      height: 32px;\n",
              "      padding: 0 0 0 0;\n",
              "      width: 32px;\n",
              "    }\n",
              "\n",
              "    .colab-df-convert:hover {\n",
              "      background-color: #E2EBFA;\n",
              "      box-shadow: 0px 1px 2px rgba(60, 64, 67, 0.3), 0px 1px 3px 1px rgba(60, 64, 67, 0.15);\n",
              "      fill: #174EA6;\n",
              "    }\n",
              "\n",
              "    [theme=dark] .colab-df-convert {\n",
              "      background-color: #3B4455;\n",
              "      fill: #D2E3FC;\n",
              "    }\n",
              "\n",
              "    [theme=dark] .colab-df-convert:hover {\n",
              "      background-color: #434B5C;\n",
              "      box-shadow: 0px 1px 3px 1px rgba(0, 0, 0, 0.15);\n",
              "      filter: drop-shadow(0px 1px 2px rgba(0, 0, 0, 0.3));\n",
              "      fill: #FFFFFF;\n",
              "    }\n",
              "  </style>\n",
              "\n",
              "      <script>\n",
              "        const buttonEl =\n",
              "          document.querySelector('#df-50f14ac0-eb62-4538-a61a-1b21b901d179 button.colab-df-convert');\n",
              "        buttonEl.style.display =\n",
              "          google.colab.kernel.accessAllowed ? 'block' : 'none';\n",
              "\n",
              "        async function convertToInteractive(key) {\n",
              "          const element = document.querySelector('#df-50f14ac0-eb62-4538-a61a-1b21b901d179');\n",
              "          const dataTable =\n",
              "            await google.colab.kernel.invokeFunction('convertToInteractive',\n",
              "                                                     [key], {});\n",
              "          if (!dataTable) return;\n",
              "\n",
              "          const docLinkHtml = 'Like what you see? Visit the ' +\n",
              "            '<a target=\"_blank\" href=https://colab.research.google.com/notebooks/data_table.ipynb>data table notebook</a>'\n",
              "            + ' to learn more about interactive tables.';\n",
              "          element.innerHTML = '';\n",
              "          dataTable['output_type'] = 'display_data';\n",
              "          await google.colab.output.renderOutput(dataTable, element);\n",
              "          const docLink = document.createElement('div');\n",
              "          docLink.innerHTML = docLinkHtml;\n",
              "          element.appendChild(docLink);\n",
              "        }\n",
              "      </script>\n",
              "    </div>\n",
              "  </div>\n",
              "  "
            ],
            "text/plain": [
              "  target                                               text\n",
              "0    ham  Go until jurong point, crazy.. Available only ...\n",
              "1    ham                      Ok lar... Joking wif u oni...\n",
              "2   spam  Free entry in 2 a wkly comp to win FA Cup fina...\n",
              "3    ham  U dun say so early hor... U c already then say...\n",
              "4    ham  Nah I don't think he goes to usf, he lives aro..."
            ]
          },
          "execution_count": 48,
          "metadata": {},
          "output_type": "execute_result"
        }
      ],
      "source": [
        "data.head()"
      ]
    },
    {
      "cell_type": "code",
      "execution_count": 49,
      "metadata": {
        "colab": {
          "base_uri": "https://localhost:8080/",
          "height": 174
        },
        "id": "cXDfS6iJq_3J",
        "outputId": "4922cac1-ead0-49e8-e1d0-56ae3b63a28f"
      },
      "outputs": [
        {
          "data": {
            "text/html": [
              "\n",
              "  <div id=\"df-136fa3ab-3d44-48c7-8708-c225812a69d9\">\n",
              "    <div class=\"colab-df-container\">\n",
              "      <div>\n",
              "<style scoped>\n",
              "    .dataframe tbody tr th:only-of-type {\n",
              "        vertical-align: middle;\n",
              "    }\n",
              "\n",
              "    .dataframe tbody tr th {\n",
              "        vertical-align: top;\n",
              "    }\n",
              "\n",
              "    .dataframe thead th {\n",
              "        text-align: right;\n",
              "    }\n",
              "</style>\n",
              "<table border=\"1\" class=\"dataframe\">\n",
              "  <thead>\n",
              "    <tr style=\"text-align: right;\">\n",
              "      <th></th>\n",
              "      <th>target</th>\n",
              "      <th>text</th>\n",
              "    </tr>\n",
              "  </thead>\n",
              "  <tbody>\n",
              "    <tr>\n",
              "      <th>count</th>\n",
              "      <td>5572</td>\n",
              "      <td>5572</td>\n",
              "    </tr>\n",
              "    <tr>\n",
              "      <th>unique</th>\n",
              "      <td>2</td>\n",
              "      <td>5169</td>\n",
              "    </tr>\n",
              "    <tr>\n",
              "      <th>top</th>\n",
              "      <td>ham</td>\n",
              "      <td>Sorry, I'll call later</td>\n",
              "    </tr>\n",
              "    <tr>\n",
              "      <th>freq</th>\n",
              "      <td>4825</td>\n",
              "      <td>30</td>\n",
              "    </tr>\n",
              "  </tbody>\n",
              "</table>\n",
              "</div>\n",
              "      <button class=\"colab-df-convert\" onclick=\"convertToInteractive('df-136fa3ab-3d44-48c7-8708-c225812a69d9')\"\n",
              "              title=\"Convert this dataframe to an interactive table.\"\n",
              "              style=\"display:none;\">\n",
              "        \n",
              "  <svg xmlns=\"http://www.w3.org/2000/svg\" height=\"24px\"viewBox=\"0 0 24 24\"\n",
              "       width=\"24px\">\n",
              "    <path d=\"M0 0h24v24H0V0z\" fill=\"none\"/>\n",
              "    <path d=\"M18.56 5.44l.94 2.06.94-2.06 2.06-.94-2.06-.94-.94-2.06-.94 2.06-2.06.94zm-11 1L8.5 8.5l.94-2.06 2.06-.94-2.06-.94L8.5 2.5l-.94 2.06-2.06.94zm10 10l.94 2.06.94-2.06 2.06-.94-2.06-.94-.94-2.06-.94 2.06-2.06.94z\"/><path d=\"M17.41 7.96l-1.37-1.37c-.4-.4-.92-.59-1.43-.59-.52 0-1.04.2-1.43.59L10.3 9.45l-7.72 7.72c-.78.78-.78 2.05 0 2.83L4 21.41c.39.39.9.59 1.41.59.51 0 1.02-.2 1.41-.59l7.78-7.78 2.81-2.81c.8-.78.8-2.07 0-2.86zM5.41 20L4 18.59l7.72-7.72 1.47 1.35L5.41 20z\"/>\n",
              "  </svg>\n",
              "      </button>\n",
              "      \n",
              "  <style>\n",
              "    .colab-df-container {\n",
              "      display:flex;\n",
              "      flex-wrap:wrap;\n",
              "      gap: 12px;\n",
              "    }\n",
              "\n",
              "    .colab-df-convert {\n",
              "      background-color: #E8F0FE;\n",
              "      border: none;\n",
              "      border-radius: 50%;\n",
              "      cursor: pointer;\n",
              "      display: none;\n",
              "      fill: #1967D2;\n",
              "      height: 32px;\n",
              "      padding: 0 0 0 0;\n",
              "      width: 32px;\n",
              "    }\n",
              "\n",
              "    .colab-df-convert:hover {\n",
              "      background-color: #E2EBFA;\n",
              "      box-shadow: 0px 1px 2px rgba(60, 64, 67, 0.3), 0px 1px 3px 1px rgba(60, 64, 67, 0.15);\n",
              "      fill: #174EA6;\n",
              "    }\n",
              "\n",
              "    [theme=dark] .colab-df-convert {\n",
              "      background-color: #3B4455;\n",
              "      fill: #D2E3FC;\n",
              "    }\n",
              "\n",
              "    [theme=dark] .colab-df-convert:hover {\n",
              "      background-color: #434B5C;\n",
              "      box-shadow: 0px 1px 3px 1px rgba(0, 0, 0, 0.15);\n",
              "      filter: drop-shadow(0px 1px 2px rgba(0, 0, 0, 0.3));\n",
              "      fill: #FFFFFF;\n",
              "    }\n",
              "  </style>\n",
              "\n",
              "      <script>\n",
              "        const buttonEl =\n",
              "          document.querySelector('#df-136fa3ab-3d44-48c7-8708-c225812a69d9 button.colab-df-convert');\n",
              "        buttonEl.style.display =\n",
              "          google.colab.kernel.accessAllowed ? 'block' : 'none';\n",
              "\n",
              "        async function convertToInteractive(key) {\n",
              "          const element = document.querySelector('#df-136fa3ab-3d44-48c7-8708-c225812a69d9');\n",
              "          const dataTable =\n",
              "            await google.colab.kernel.invokeFunction('convertToInteractive',\n",
              "                                                     [key], {});\n",
              "          if (!dataTable) return;\n",
              "\n",
              "          const docLinkHtml = 'Like what you see? Visit the ' +\n",
              "            '<a target=\"_blank\" href=https://colab.research.google.com/notebooks/data_table.ipynb>data table notebook</a>'\n",
              "            + ' to learn more about interactive tables.';\n",
              "          element.innerHTML = '';\n",
              "          dataTable['output_type'] = 'display_data';\n",
              "          await google.colab.output.renderOutput(dataTable, element);\n",
              "          const docLink = document.createElement('div');\n",
              "          docLink.innerHTML = docLinkHtml;\n",
              "          element.appendChild(docLink);\n",
              "        }\n",
              "      </script>\n",
              "    </div>\n",
              "  </div>\n",
              "  "
            ],
            "text/plain": [
              "       target                    text\n",
              "count    5572                    5572\n",
              "unique      2                    5169\n",
              "top       ham  Sorry, I'll call later\n",
              "freq     4825                      30"
            ]
          },
          "execution_count": 49,
          "metadata": {},
          "output_type": "execute_result"
        }
      ],
      "source": [
        "data.describe()"
      ]
    },
    {
      "cell_type": "code",
      "execution_count": 50,
      "metadata": {
        "colab": {
          "base_uri": "https://localhost:8080/",
          "height": 174
        },
        "id": "r1JV98K2q_5x",
        "outputId": "83e82124-6c2a-455e-c471-a1c852313b91"
      },
      "outputs": [
        {
          "data": {
            "text/html": [
              "\n",
              "  <div id=\"df-72f9c001-3078-4063-8a76-7177a1a80dab\">\n",
              "    <div class=\"colab-df-container\">\n",
              "      <div>\n",
              "<style scoped>\n",
              "    .dataframe tbody tr th:only-of-type {\n",
              "        vertical-align: middle;\n",
              "    }\n",
              "\n",
              "    .dataframe tbody tr th {\n",
              "        vertical-align: top;\n",
              "    }\n",
              "\n",
              "    .dataframe thead tr th {\n",
              "        text-align: left;\n",
              "    }\n",
              "\n",
              "    .dataframe thead tr:last-of-type th {\n",
              "        text-align: right;\n",
              "    }\n",
              "</style>\n",
              "<table border=\"1\" class=\"dataframe\">\n",
              "  <thead>\n",
              "    <tr>\n",
              "      <th></th>\n",
              "      <th colspan=\"4\" halign=\"left\">text</th>\n",
              "    </tr>\n",
              "    <tr>\n",
              "      <th></th>\n",
              "      <th>count</th>\n",
              "      <th>unique</th>\n",
              "      <th>top</th>\n",
              "      <th>freq</th>\n",
              "    </tr>\n",
              "    <tr>\n",
              "      <th>target</th>\n",
              "      <th></th>\n",
              "      <th></th>\n",
              "      <th></th>\n",
              "      <th></th>\n",
              "    </tr>\n",
              "  </thead>\n",
              "  <tbody>\n",
              "    <tr>\n",
              "      <th>ham</th>\n",
              "      <td>4825</td>\n",
              "      <td>4516</td>\n",
              "      <td>Sorry, I'll call later</td>\n",
              "      <td>30</td>\n",
              "    </tr>\n",
              "    <tr>\n",
              "      <th>spam</th>\n",
              "      <td>747</td>\n",
              "      <td>653</td>\n",
              "      <td>Please call our customer service representativ...</td>\n",
              "      <td>4</td>\n",
              "    </tr>\n",
              "  </tbody>\n",
              "</table>\n",
              "</div>\n",
              "      <button class=\"colab-df-convert\" onclick=\"convertToInteractive('df-72f9c001-3078-4063-8a76-7177a1a80dab')\"\n",
              "              title=\"Convert this dataframe to an interactive table.\"\n",
              "              style=\"display:none;\">\n",
              "        \n",
              "  <svg xmlns=\"http://www.w3.org/2000/svg\" height=\"24px\"viewBox=\"0 0 24 24\"\n",
              "       width=\"24px\">\n",
              "    <path d=\"M0 0h24v24H0V0z\" fill=\"none\"/>\n",
              "    <path d=\"M18.56 5.44l.94 2.06.94-2.06 2.06-.94-2.06-.94-.94-2.06-.94 2.06-2.06.94zm-11 1L8.5 8.5l.94-2.06 2.06-.94-2.06-.94L8.5 2.5l-.94 2.06-2.06.94zm10 10l.94 2.06.94-2.06 2.06-.94-2.06-.94-.94-2.06-.94 2.06-2.06.94z\"/><path d=\"M17.41 7.96l-1.37-1.37c-.4-.4-.92-.59-1.43-.59-.52 0-1.04.2-1.43.59L10.3 9.45l-7.72 7.72c-.78.78-.78 2.05 0 2.83L4 21.41c.39.39.9.59 1.41.59.51 0 1.02-.2 1.41-.59l7.78-7.78 2.81-2.81c.8-.78.8-2.07 0-2.86zM5.41 20L4 18.59l7.72-7.72 1.47 1.35L5.41 20z\"/>\n",
              "  </svg>\n",
              "      </button>\n",
              "      \n",
              "  <style>\n",
              "    .colab-df-container {\n",
              "      display:flex;\n",
              "      flex-wrap:wrap;\n",
              "      gap: 12px;\n",
              "    }\n",
              "\n",
              "    .colab-df-convert {\n",
              "      background-color: #E8F0FE;\n",
              "      border: none;\n",
              "      border-radius: 50%;\n",
              "      cursor: pointer;\n",
              "      display: none;\n",
              "      fill: #1967D2;\n",
              "      height: 32px;\n",
              "      padding: 0 0 0 0;\n",
              "      width: 32px;\n",
              "    }\n",
              "\n",
              "    .colab-df-convert:hover {\n",
              "      background-color: #E2EBFA;\n",
              "      box-shadow: 0px 1px 2px rgba(60, 64, 67, 0.3), 0px 1px 3px 1px rgba(60, 64, 67, 0.15);\n",
              "      fill: #174EA6;\n",
              "    }\n",
              "\n",
              "    [theme=dark] .colab-df-convert {\n",
              "      background-color: #3B4455;\n",
              "      fill: #D2E3FC;\n",
              "    }\n",
              "\n",
              "    [theme=dark] .colab-df-convert:hover {\n",
              "      background-color: #434B5C;\n",
              "      box-shadow: 0px 1px 3px 1px rgba(0, 0, 0, 0.15);\n",
              "      filter: drop-shadow(0px 1px 2px rgba(0, 0, 0, 0.3));\n",
              "      fill: #FFFFFF;\n",
              "    }\n",
              "  </style>\n",
              "\n",
              "      <script>\n",
              "        const buttonEl =\n",
              "          document.querySelector('#df-72f9c001-3078-4063-8a76-7177a1a80dab button.colab-df-convert');\n",
              "        buttonEl.style.display =\n",
              "          google.colab.kernel.accessAllowed ? 'block' : 'none';\n",
              "\n",
              "        async function convertToInteractive(key) {\n",
              "          const element = document.querySelector('#df-72f9c001-3078-4063-8a76-7177a1a80dab');\n",
              "          const dataTable =\n",
              "            await google.colab.kernel.invokeFunction('convertToInteractive',\n",
              "                                                     [key], {});\n",
              "          if (!dataTable) return;\n",
              "\n",
              "          const docLinkHtml = 'Like what you see? Visit the ' +\n",
              "            '<a target=\"_blank\" href=https://colab.research.google.com/notebooks/data_table.ipynb>data table notebook</a>'\n",
              "            + ' to learn more about interactive tables.';\n",
              "          element.innerHTML = '';\n",
              "          dataTable['output_type'] = 'display_data';\n",
              "          await google.colab.output.renderOutput(dataTable, element);\n",
              "          const docLink = document.createElement('div');\n",
              "          docLink.innerHTML = docLinkHtml;\n",
              "          element.appendChild(docLink);\n",
              "        }\n",
              "      </script>\n",
              "    </div>\n",
              "  </div>\n",
              "  "
            ],
            "text/plain": [
              "        text                                                               \n",
              "       count unique                                                top freq\n",
              "target                                                                     \n",
              "ham     4825   4516                             Sorry, I'll call later   30\n",
              "spam     747    653  Please call our customer service representativ...    4"
            ]
          },
          "execution_count": 50,
          "metadata": {},
          "output_type": "execute_result"
        }
      ],
      "source": [
        "data.groupby('target').describe()"
      ]
    },
    {
      "cell_type": "markdown",
      "metadata": {
        "id": "ZL-0mGXLq_8C"
      },
      "source": [
        "#### Disstribution of the target variable\n",
        "- The dataset consists of 5,574 messages in English.\n",
        "- The data is designated as being ham or spam.\n",
        "- The dataset contains 4,825 ham and 747 spam messages.\n",
        "- For both classes, some messages appear more than once (common phrases, etc.).\n"
      ]
    },
    {
      "cell_type": "markdown",
      "metadata": {
        "id": "E-Ak8JcbuF-n"
      },
      "source": [
        "## 3. Data Exploration"
      ]
    },
    {
      "cell_type": "markdown",
      "metadata": {
        "id": "cbxfE6p6uSY6"
      },
      "source": [
        "### 3.1 Feature Engineering"
      ]
    },
    {
      "cell_type": "code",
      "execution_count": 53,
      "metadata": {
        "colab": {
          "base_uri": "https://localhost:8080/",
          "height": 302
        },
        "id": "1TeTby_RrABg",
        "outputId": "827dee7f-6a9b-45a7-91cb-e4983b0be2bc"
      },
      "outputs": [
        {
          "data": {
            "text/plain": [
              "<matplotlib.axes._subplots.AxesSubplot at 0x7fd64b523b90>"
            ]
          },
          "execution_count": 53,
          "metadata": {},
          "output_type": "execute_result"
        },
        {
          "data": {
            "image/png": "[encoded data removed]",
            "text/plain": [
              "<Figure size 432x288 with 1 Axes>"
            ]
          },
          "metadata": {
            "needs_background": "light"
          },
          "output_type": "display_data"
        }
      ],
      "source": [
        "data.target.value_counts().plot.bar()"
      ]
    },
    {
      "cell_type": "code",
      "execution_count": 52,
      "metadata": {
        "colab": {
          "base_uri": "https://localhost:8080/"
        },
        "id": "sQXsrVqPq_-v",
        "outputId": "9fa41585-b39c-4eb4-9a8a-9f218f3fdd39"
      },
      "outputs": [
        {
          "data": {
            "text/plain": [
              "ham     4825\n",
              "spam     747\n",
              "Name: target, dtype: int64"
            ]
          },
          "execution_count": 52,
          "metadata": {},
          "output_type": "execute_result"
        }
      ],
      "source": [
        "data.target.value_counts()"
      ]
    },
    {
      "cell_type": "markdown",
      "metadata": {
        "id": "310b-g0wrAHH"
      },
      "source": [
        "- Note: From the above countplot the data imbalance is quite evident."
      ]
    },
    {
      "cell_type": "markdown",
      "metadata": {
        "id": "BgzN1beL1cy1"
      },
      "source": [
        "### Add numerical label for spam\n",
        "\n",
        "- Target must be numerical for ML classification models"
      ]
    },
    {
      "cell_type": "code",
      "execution_count": 54,
      "metadata": {
        "colab": {
          "base_uri": "https://localhost:8080/",
          "height": 520
        },
        "id": "7hiFOVsv1gsb",
        "outputId": "fd75c4af-b70f-44c5-937e-6f0f62322316"
      },
      "outputs": [
        {
          "data": {
            "text/html": [
              "\n",
              "  <div id=\"df-aff16f91-fb17-445b-8271-5717e14877f9\">\n",
              "    <div class=\"colab-df-container\">\n",
              "      <div>\n",
              "<style scoped>\n",
              "    .dataframe tbody tr th:only-of-type {\n",
              "        vertical-align: middle;\n",
              "    }\n",
              "\n",
              "    .dataframe tbody tr th {\n",
              "        vertical-align: top;\n",
              "    }\n",
              "\n",
              "    .dataframe thead th {\n",
              "        text-align: right;\n",
              "    }\n",
              "</style>\n",
              "<table border=\"1\" class=\"dataframe\">\n",
              "  <thead>\n",
              "    <tr style=\"text-align: right;\">\n",
              "      <th></th>\n",
              "      <th>target</th>\n",
              "      <th>text</th>\n",
              "      <th>spam</th>\n",
              "    </tr>\n",
              "  </thead>\n",
              "  <tbody>\n",
              "    <tr>\n",
              "      <th>0</th>\n",
              "      <td>ham</td>\n",
              "      <td>Go until jurong point, crazy.. Available only ...</td>\n",
              "      <td>0</td>\n",
              "    </tr>\n",
              "    <tr>\n",
              "      <th>1</th>\n",
              "      <td>ham</td>\n",
              "      <td>Ok lar... Joking wif u oni...</td>\n",
              "      <td>0</td>\n",
              "    </tr>\n",
              "    <tr>\n",
              "      <th>2</th>\n",
              "      <td>spam</td>\n",
              "      <td>Free entry in 2 a wkly comp to win FA Cup fina...</td>\n",
              "      <td>1</td>\n",
              "    </tr>\n",
              "    <tr>\n",
              "      <th>3</th>\n",
              "      <td>ham</td>\n",
              "      <td>U dun say so early hor... U c already then say...</td>\n",
              "      <td>0</td>\n",
              "    </tr>\n",
              "    <tr>\n",
              "      <th>4</th>\n",
              "      <td>ham</td>\n",
              "      <td>Nah I don't think he goes to usf, he lives aro...</td>\n",
              "      <td>0</td>\n",
              "    </tr>\n",
              "    <tr>\n",
              "      <th>5</th>\n",
              "      <td>spam</td>\n",
              "      <td>FreeMsg Hey there darling it's been 3 week's n...</td>\n",
              "      <td>1</td>\n",
              "    </tr>\n",
              "    <tr>\n",
              "      <th>6</th>\n",
              "      <td>ham</td>\n",
              "      <td>Even my brother is not like to speak with me. ...</td>\n",
              "      <td>0</td>\n",
              "    </tr>\n",
              "    <tr>\n",
              "      <th>7</th>\n",
              "      <td>ham</td>\n",
              "      <td>As per your request 'Melle Melle (Oru Minnamin...</td>\n",
              "      <td>0</td>\n",
              "    </tr>\n",
              "    <tr>\n",
              "      <th>8</th>\n",
              "      <td>spam</td>\n",
              "      <td>WINNER!! As a valued network customer you have...</td>\n",
              "      <td>1</td>\n",
              "    </tr>\n",
              "    <tr>\n",
              "      <th>9</th>\n",
              "      <td>spam</td>\n",
              "      <td>Had your mobile 11 months or more? U R entitle...</td>\n",
              "      <td>1</td>\n",
              "    </tr>\n",
              "    <tr>\n",
              "      <th>10</th>\n",
              "      <td>ham</td>\n",
              "      <td>I'm gonna be home soon and i don't want to tal...</td>\n",
              "      <td>0</td>\n",
              "    </tr>\n",
              "    <tr>\n",
              "      <th>11</th>\n",
              "      <td>spam</td>\n",
              "      <td>SIX chances to win CASH! From 100 to 20,000 po...</td>\n",
              "      <td>1</td>\n",
              "    </tr>\n",
              "    <tr>\n",
              "      <th>12</th>\n",
              "      <td>spam</td>\n",
              "      <td>URGENT! You have won a 1 week FREE membership ...</td>\n",
              "      <td>1</td>\n",
              "    </tr>\n",
              "    <tr>\n",
              "      <th>13</th>\n",
              "      <td>ham</td>\n",
              "      <td>I've been searching for the right words to tha...</td>\n",
              "      <td>0</td>\n",
              "    </tr>\n",
              "    <tr>\n",
              "      <th>14</th>\n",
              "      <td>ham</td>\n",
              "      <td>I HAVE A DATE ON SUNDAY WITH WILL!!</td>\n",
              "      <td>0</td>\n",
              "    </tr>\n",
              "  </tbody>\n",
              "</table>\n",
              "</div>\n",
              "      <button class=\"colab-df-convert\" onclick=\"convertToInteractive('df-aff16f91-fb17-445b-8271-5717e14877f9')\"\n",
              "              title=\"Convert this dataframe to an interactive table.\"\n",
              "              style=\"display:none;\">\n",
              "        \n",
              "  <svg xmlns=\"http://www.w3.org/2000/svg\" height=\"24px\"viewBox=\"0 0 24 24\"\n",
              "       width=\"24px\">\n",
              "    <path d=\"M0 0h24v24H0V0z\" fill=\"none\"/>\n",
              "    <path d=\"M18.56 5.44l.94 2.06.94-2.06 2.06-.94-2.06-.94-.94-2.06-.94 2.06-2.06.94zm-11 1L8.5 8.5l.94-2.06 2.06-.94-2.06-.94L8.5 2.5l-.94 2.06-2.06.94zm10 10l.94 2.06.94-2.06 2.06-.94-2.06-.94-.94-2.06-.94 2.06-2.06.94z\"/><path d=\"M17.41 7.96l-1.37-1.37c-.4-.4-.92-.59-1.43-.59-.52 0-1.04.2-1.43.59L10.3 9.45l-7.72 7.72c-.78.78-.78 2.05 0 2.83L4 21.41c.39.39.9.59 1.41.59.51 0 1.02-.2 1.41-.59l7.78-7.78 2.81-2.81c.8-.78.8-2.07 0-2.86zM5.41 20L4 18.59l7.72-7.72 1.47 1.35L5.41 20z\"/>\n",
              "  </svg>\n",
              "      </button>\n",
              "      \n",
              "  <style>\n",
              "    .colab-df-container {\n",
              "      display:flex;\n",
              "      flex-wrap:wrap;\n",
              "      gap: 12px;\n",
              "    }\n",
              "\n",
              "    .colab-df-convert {\n",
              "      background-color: #E8F0FE;\n",
              "      border: none;\n",
              "      border-radius: 50%;\n",
              "      cursor: pointer;\n",
              "      display: none;\n",
              "      fill: #1967D2;\n",
              "      height: 32px;\n",
              "      padding: 0 0 0 0;\n",
              "      width: 32px;\n",
              "    }\n",
              "\n",
              "    .colab-df-convert:hover {\n",
              "      background-color: #E2EBFA;\n",
              "      box-shadow: 0px 1px 2px rgba(60, 64, 67, 0.3), 0px 1px 3px 1px rgba(60, 64, 67, 0.15);\n",
              "      fill: #174EA6;\n",
              "    }\n",
              "\n",
              "    [theme=dark] .colab-df-convert {\n",
              "      background-color: #3B4455;\n",
              "      fill: #D2E3FC;\n",
              "    }\n",
              "\n",
              "    [theme=dark] .colab-df-convert:hover {\n",
              "      background-color: #434B5C;\n",
              "      box-shadow: 0px 1px 3px 1px rgba(0, 0, 0, 0.15);\n",
              "      filter: drop-shadow(0px 1px 2px rgba(0, 0, 0, 0.3));\n",
              "      fill: #FFFFFF;\n",
              "    }\n",
              "  </style>\n",
              "\n",
              "      <script>\n",
              "        const buttonEl =\n",
              "          document.querySelector('#df-aff16f91-fb17-445b-8271-5717e14877f9 button.colab-df-convert');\n",
              "        buttonEl.style.display =\n",
              "          google.colab.kernel.accessAllowed ? 'block' : 'none';\n",
              "\n",
              "        async function convertToInteractive(key) {\n",
              "          const element = document.querySelector('#df-aff16f91-fb17-445b-8271-5717e14877f9');\n",
              "          const dataTable =\n",
              "            await google.colab.kernel.invokeFunction('convertToInteractive',\n",
              "                                                     [key], {});\n",
              "          if (!dataTable) return;\n",
              "\n",
              "          const docLinkHtml = 'Like what you see? Visit the ' +\n",
              "            '<a target=\"_blank\" href=https://colab.research.google.com/notebooks/data_table.ipynb>data table notebook</a>'\n",
              "            + ' to learn more about interactive tables.';\n",
              "          element.innerHTML = '';\n",
              "          dataTable['output_type'] = 'display_data';\n",
              "          await google.colab.output.renderOutput(dataTable, element);\n",
              "          const docLink = document.createElement('div');\n",
              "          docLink.innerHTML = docLinkHtml;\n",
              "          element.appendChild(docLink);\n",
              "        }\n",
              "      </script>\n",
              "    </div>\n",
              "  </div>\n",
              "  "
            ],
            "text/plain": [
              "   target                                               text  spam\n",
              "0     ham  Go until jurong point, crazy.. Available only ...     0\n",
              "1     ham                      Ok lar... Joking wif u oni...     0\n",
              "2    spam  Free entry in 2 a wkly comp to win FA Cup fina...     1\n",
              "3     ham  U dun say so early hor... U c already then say...     0\n",
              "4     ham  Nah I don't think he goes to usf, he lives aro...     0\n",
              "5    spam  FreeMsg Hey there darling it's been 3 week's n...     1\n",
              "6     ham  Even my brother is not like to speak with me. ...     0\n",
              "7     ham  As per your request 'Melle Melle (Oru Minnamin...     0\n",
              "8    spam  WINNER!! As a valued network customer you have...     1\n",
              "9    spam  Had your mobile 11 months or more? U R entitle...     1\n",
              "10    ham  I'm gonna be home soon and i don't want to tal...     0\n",
              "11   spam  SIX chances to win CASH! From 100 to 20,000 po...     1\n",
              "12   spam  URGENT! You have won a 1 week FREE membership ...     1\n",
              "13    ham  I've been searching for the right words to tha...     0\n",
              "14    ham                I HAVE A DATE ON SUNDAY WITH WILL!!     0"
            ]
          },
          "execution_count": 54,
          "metadata": {},
          "output_type": "execute_result"
        }
      ],
      "source": [
        "data['spam'] = data['target'].map({'spam':1, 'ham':0}).astype(int)\n",
        "data.head(15)"
      ]
    },
    {
      "cell_type": "markdown",
      "metadata": {
        "id": "Y9cGl_zX1yZ8"
      },
      "source": [
        "- Add a new column 'spam' for classifying label. The label of spam is `1` and the label of ham is `0`.\n",
        "  - `spam` : `1`\n",
        "  - `ham` : `0`"
      ]
    },
    {
      "cell_type": "markdown",
      "metadata": {
        "id": "mvEfIoOR15ZS"
      },
      "source": [
        "### Add feature: length of message"
      ]
    },
    {
      "cell_type": "code",
      "execution_count": 55,
      "metadata": {
        "colab": {
          "base_uri": "https://localhost:8080/",
          "height": 206
        },
        "id": "EhGJ1Eq50iVn",
        "outputId": "b72d3223-d6ff-43d0-e028-088297e97260"
      },
      "outputs": [
        {
          "data": {
            "text/html": [
              "\n",
              "  <div id=\"df-4d2c8944-1d5a-4c1d-a3b7-66c8e5c5524f\">\n",
              "    <div class=\"colab-df-container\">\n",
              "      <div>\n",
              "<style scoped>\n",
              "    .dataframe tbody tr th:only-of-type {\n",
              "        vertical-align: middle;\n",
              "    }\n",
              "\n",
              "    .dataframe tbody tr th {\n",
              "        vertical-align: top;\n",
              "    }\n",
              "\n",
              "    .dataframe thead th {\n",
              "        text-align: right;\n",
              "    }\n",
              "</style>\n",
              "<table border=\"1\" class=\"dataframe\">\n",
              "  <thead>\n",
              "    <tr style=\"text-align: right;\">\n",
              "      <th></th>\n",
              "      <th>target</th>\n",
              "      <th>text</th>\n",
              "      <th>spam</th>\n",
              "      <th>length</th>\n",
              "    </tr>\n",
              "  </thead>\n",
              "  <tbody>\n",
              "    <tr>\n",
              "      <th>0</th>\n",
              "      <td>ham</td>\n",
              "      <td>Go until jurong point, crazy.. Available only ...</td>\n",
              "      <td>0</td>\n",
              "      <td>111</td>\n",
              "    </tr>\n",
              "    <tr>\n",
              "      <th>1</th>\n",
              "      <td>ham</td>\n",
              "      <td>Ok lar... Joking wif u oni...</td>\n",
              "      <td>0</td>\n",
              "      <td>29</td>\n",
              "    </tr>\n",
              "    <tr>\n",
              "      <th>2</th>\n",
              "      <td>spam</td>\n",
              "      <td>Free entry in 2 a wkly comp to win FA Cup fina...</td>\n",
              "      <td>1</td>\n",
              "      <td>155</td>\n",
              "    </tr>\n",
              "    <tr>\n",
              "      <th>3</th>\n",
              "      <td>ham</td>\n",
              "      <td>U dun say so early hor... U c already then say...</td>\n",
              "      <td>0</td>\n",
              "      <td>49</td>\n",
              "    </tr>\n",
              "    <tr>\n",
              "      <th>4</th>\n",
              "      <td>ham</td>\n",
              "      <td>Nah I don't think he goes to usf, he lives aro...</td>\n",
              "      <td>0</td>\n",
              "      <td>61</td>\n",
              "    </tr>\n",
              "  </tbody>\n",
              "</table>\n",
              "</div>\n",
              "      <button class=\"colab-df-convert\" onclick=\"convertToInteractive('df-4d2c8944-1d5a-4c1d-a3b7-66c8e5c5524f')\"\n",
              "              title=\"Convert this dataframe to an interactive table.\"\n",
              "              style=\"display:none;\">\n",
              "        \n",
              "  <svg xmlns=\"http://www.w3.org/2000/svg\" height=\"24px\"viewBox=\"0 0 24 24\"\n",
              "       width=\"24px\">\n",
              "    <path d=\"M0 0h24v24H0V0z\" fill=\"none\"/>\n",
              "    <path d=\"M18.56 5.44l.94 2.06.94-2.06 2.06-.94-2.06-.94-.94-2.06-.94 2.06-2.06.94zm-11 1L8.5 8.5l.94-2.06 2.06-.94-2.06-.94L8.5 2.5l-.94 2.06-2.06.94zm10 10l.94 2.06.94-2.06 2.06-.94-2.06-.94-.94-2.06-.94 2.06-2.06.94z\"/><path d=\"M17.41 7.96l-1.37-1.37c-.4-.4-.92-.59-1.43-.59-.52 0-1.04.2-1.43.59L10.3 9.45l-7.72 7.72c-.78.78-.78 2.05 0 2.83L4 21.41c.39.39.9.59 1.41.59.51 0 1.02-.2 1.41-.59l7.78-7.78 2.81-2.81c.8-.78.8-2.07 0-2.86zM5.41 20L4 18.59l7.72-7.72 1.47 1.35L5.41 20z\"/>\n",
              "  </svg>\n",
              "      </button>\n",
              "      \n",
              "  <style>\n",
              "    .colab-df-container {\n",
              "      display:flex;\n",
              "      flex-wrap:wrap;\n",
              "      gap: 12px;\n",
              "    }\n",
              "\n",
              "    .colab-df-convert {\n",
              "      background-color: #E8F0FE;\n",
              "      border: none;\n",
              "      border-radius: 50%;\n",
              "      cursor: pointer;\n",
              "      display: none;\n",
              "      fill: #1967D2;\n",
              "      height: 32px;\n",
              "      padding: 0 0 0 0;\n",
              "      width: 32px;\n",
              "    }\n",
              "\n",
              "    .colab-df-convert:hover {\n",
              "      background-color: #E2EBFA;\n",
              "      box-shadow: 0px 1px 2px rgba(60, 64, 67, 0.3), 0px 1px 3px 1px rgba(60, 64, 67, 0.15);\n",
              "      fill: #174EA6;\n",
              "    }\n",
              "\n",
              "    [theme=dark] .colab-df-convert {\n",
              "      background-color: #3B4455;\n",
              "      fill: #D2E3FC;\n",
              "    }\n",
              "\n",
              "    [theme=dark] .colab-df-convert:hover {\n",
              "      background-color: #434B5C;\n",
              "      box-shadow: 0px 1px 3px 1px rgba(0, 0, 0, 0.15);\n",
              "      filter: drop-shadow(0px 1px 2px rgba(0, 0, 0, 0.3));\n",
              "      fill: #FFFFFF;\n",
              "    }\n",
              "  </style>\n",
              "\n",
              "      <script>\n",
              "        const buttonEl =\n",
              "          document.querySelector('#df-4d2c8944-1d5a-4c1d-a3b7-66c8e5c5524f button.colab-df-convert');\n",
              "        buttonEl.style.display =\n",
              "          google.colab.kernel.accessAllowed ? 'block' : 'none';\n",
              "\n",
              "        async function convertToInteractive(key) {\n",
              "          const element = document.querySelector('#df-4d2c8944-1d5a-4c1d-a3b7-66c8e5c5524f');\n",
              "          const dataTable =\n",
              "            await google.colab.kernel.invokeFunction('convertToInteractive',\n",
              "                                                     [key], {});\n",
              "          if (!dataTable) return;\n",
              "\n",
              "          const docLinkHtml = 'Like what you see? Visit the ' +\n",
              "            '<a target=\"_blank\" href=https://colab.research.google.com/notebooks/data_table.ipynb>data table notebook</a>'\n",
              "            + ' to learn more about interactive tables.';\n",
              "          element.innerHTML = '';\n",
              "          dataTable['output_type'] = 'display_data';\n",
              "          await google.colab.output.renderOutput(dataTable, element);\n",
              "          const docLink = document.createElement('div');\n",
              "          docLink.innerHTML = docLinkHtml;\n",
              "          element.appendChild(docLink);\n",
              "        }\n",
              "      </script>\n",
              "    </div>\n",
              "  </div>\n",
              "  "
            ],
            "text/plain": [
              "  target                                               text  spam  length\n",
              "0    ham  Go until jurong point, crazy.. Available only ...     0     111\n",
              "1    ham                      Ok lar... Joking wif u oni...     0      29\n",
              "2   spam  Free entry in 2 a wkly comp to win FA Cup fina...     1     155\n",
              "3    ham  U dun say so early hor... U c already then say...     0      49\n",
              "4    ham  Nah I don't think he goes to usf, he lives aro...     0      61"
            ]
          },
          "execution_count": 55,
          "metadata": {},
          "output_type": "execute_result"
        }
      ],
      "source": [
        "data['length'] = data['text'].apply(len)\n",
        "data.head()"
      ]
    },
    {
      "cell_type": "markdown",
      "metadata": {
        "id": "gjjSJ1YQ2vB9"
      },
      "source": [
        "### 3.2 Data Visualization"
      ]
    },
    {
      "cell_type": "code",
      "execution_count": 58,
      "metadata": {
        "colab": {
          "base_uri": "https://localhost:8080/",
          "height": 273
        },
        "id": "PKnytqRzrAXQ",
        "outputId": "eb9cf758-8bbd-4208-877a-b94fed08adf0"
      },
      "outputs": [
        {
          "data": {
            "text/plain": [
              "(-40.0, 950.0)"
            ]
          },
          "execution_count": 58,
          "metadata": {},
          "output_type": "execute_result"
        },
        {
          "data": {
            "image/png": "[encoded data removed]",
            "text/plain": [
              "<Figure size 864x288 with 2 Axes>"
            ]
          },
          "metadata": {
            "needs_background": "light"
          },
          "output_type": "display_data"
        }
      ],
      "source": [
        "data.hist(column='length', by='target', bins=60, figsize=(12,4))\n",
        "plt.xlim(-40, 950)"
      ]
    },
    {
      "cell_type": "markdown",
      "metadata": {
        "id": "_tphiq3frAaF"
      },
      "source": [
        "Looks like spam messages are generally longer than ham messages: <br/>\n",
        "Bulk of ham has length below 100, for spam it is above 100. <br/>"
      ]
    },
    {
      "cell_type": "code",
      "execution_count": 56,
      "metadata": {
        "colab": {
          "base_uri": "https://localhost:8080/"
        },
        "id": "bD34fUkdrAUh",
        "outputId": "2819d3ed-286b-4a18-8476-6d59cb8487b7"
      },
      "outputs": [
        {
          "data": {
            "text/plain": [
              "count    5572.000000\n",
              "mean       80.118808\n",
              "std        59.690841\n",
              "min         2.000000\n",
              "25%        36.000000\n",
              "50%        61.000000\n",
              "75%       121.000000\n",
              "max       910.000000\n",
              "Name: length, dtype: float64"
            ]
          },
          "execution_count": 56,
          "metadata": {},
          "output_type": "execute_result"
        }
      ],
      "source": [
        "data['length'].describe()"
      ]
    },
    {
      "cell_type": "markdown",
      "metadata": {
        "id": "tHGCWLJzrAcs"
      },
      "source": [
        "Max is 910 characters, let's use masking to find this message:"
      ]
    },
    {
      "cell_type": "code",
      "execution_count": 59,
      "metadata": {
        "colab": {
          "base_uri": "https://localhost:8080/",
          "height": 217
        },
        "id": "a65RXSHbrAfk",
        "outputId": "af5ff97a-5685-4207-ef10-7b6a55f03bad"
      },
      "outputs": [
        {
          "data": {
            "application/vnd.google.colaboratory.intrinsic+json": {
              "type": "string"
            },
            "text/plain": [
              "\"For me the love should start with attraction.i should feel that I need her every time around me.she should be the first thing which comes in my thoughts.I would start the day and end it with her.she should be there every time I dream.love will be then when my every breath has her name.my life should happen around her.my life will be named to her.I would cry for her.will give all my happiness and take all her sorrows.I will be ready to fight with anyone for her.I will be in love when I will be doing the craziest things for her.love will be when I don't have to proove anyone that my girl is the most beautiful lady on the whole planet.I will always be singing praises for her.love will be when I start up making chicken curry and end up makiing sambar.life will be the most beautiful then.will get every morning and thank god for the day because she is with me.I would like to say a lot..will tell later..\""
            ]
          },
          "execution_count": 59,
          "metadata": {},
          "output_type": "execute_result"
        }
      ],
      "source": [
        "data[data['length'] == 910]['text'].iloc[0]"
      ]
    },
    {
      "cell_type": "code",
      "execution_count": 60,
      "metadata": {
        "colab": {
          "base_uri": "https://localhost:8080/",
          "height": 318
        },
        "id": "giZJPJKlrAiS",
        "outputId": "b5f8c995-e0c7-4f0d-9fac-c0779d5592e0"
      },
      "outputs": [
        {
          "data": {
            "text/plain": [
              "[Text(0, 0.5, 'Frequency'),\n",
              " Text(0.5, 0, 'Length Class'),\n",
              " Text(0.5, 1.0, 'SPAM')]"
            ]
          },
          "execution_count": 60,
          "metadata": {},
          "output_type": "execute_result"
        },
        {
          "data": {
            "image/png": "[encoded data removed]",
            "text/plain": [
              "<Figure size 1440x480 with 2 Axes>"
            ]
          },
          "metadata": {
            "needs_background": "light"
          },
          "output_type": "display_data"
        }
      ],
      "source": [
        "fig,ax = plt.subplots(1,2,figsize=(12,4),dpi = 120)\n",
        "\n",
        "data[data['target']=='ham'].hist(column='length', bins=50,ax=ax[0],color = 'green')\n",
        "ax[0].set(xlabel = 'Length Class',ylabel = 'Frequency',title = 'HAM')\n",
        "data[data['target']=='spam'].hist(column='length', bins=50,ax=ax[1],color = 'red')\n",
        "ax[1].set(xlabel = 'Length Class',ylabel = 'Frequency',title = 'SPAM')"
      ]
    },
    {
      "cell_type": "markdown",
      "metadata": {
        "id": "DvVw4NdMrAle"
      },
      "source": [
        "Very interesting!\n",
        "\n",
        "Through just basic EDA we've been able to discover a trend that spam messages tend to have more characters."
      ]
    },
    {
      "cell_type": "markdown",
      "metadata": {
        "id": "W1yDBzIxrAoL"
      },
      "source": [
        "## 4. Data Preprocessing\n",
        "\n",
        "Our main issue with our data is that it is all in text format (strings). The classification algorithms that we've learned about so far will need some sort of numerical feature vector in order to perform the classification task. There are actually many methods to convert a corpus to a vector format. The simplest is the the bag-of-words approach, where each unique word in a text will be represented by one number."
      ]
    },
    {
      "cell_type": "code",
      "execution_count": 65,
      "metadata": {
        "id": "mMk3PxTC3t3a"
      },
      "outputs": [],
      "source": [
        "from nltk.corpus import stopwords\n",
        "import string"
      ]
    },
    {
      "cell_type": "code",
      "execution_count": 66,
      "metadata": {
        "id": "SD7GnP9JLJfw"
      },
      "outputs": [],
      "source": [
        "def text_process(mess):\n",
        "    \"\"\"\n",
        "    Takes in a string of text, then performs the following:\n",
        "    1. Remove all punctuation\n",
        "    2. Remove all stopwords\n",
        "    3. Returns a list of the cleaned text\n",
        "    \"\"\"\n",
        "    # Check characters to see if they are in punctuation\n",
        "    nopunc = [char for char in mess if char not in string.punctuation]\n",
        "\n",
        "    # Join the characters again to form the string.\n",
        "    nopunc = ''.join(nopunc)\n",
        "    \n",
        "    # Now just remove any stopwords\n",
        "    return [word for word in nopunc.split() if word.lower() not in stopwords.words('english')]"
      ]
    },
    {
      "cell_type": "markdown",
      "metadata": {
        "id": "XvK2wj6wLTjF"
      },
      "source": [
        "Here is the original DataFrame again:"
      ]
    },
    {
      "cell_type": "code",
      "execution_count": 67,
      "metadata": {
        "colab": {
          "base_uri": "https://localhost:8080/",
          "height": 206
        },
        "id": "5Z8_0CkYLMGf",
        "outputId": "91411b39-2ccd-4dcd-bc54-d35b7100f65f"
      },
      "outputs": [
        {
          "data": {
            "text/html": [
              "\n",
              "  <div id=\"df-bc561f67-5557-418a-8172-ed4c1f0563d7\">\n",
              "    <div class=\"colab-df-container\">\n",
              "      <div>\n",
              "<style scoped>\n",
              "    .dataframe tbody tr th:only-of-type {\n",
              "        vertical-align: middle;\n",
              "    }\n",
              "\n",
              "    .dataframe tbody tr th {\n",
              "        vertical-align: top;\n",
              "    }\n",
              "\n",
              "    .dataframe thead th {\n",
              "        text-align: right;\n",
              "    }\n",
              "</style>\n",
              "<table border=\"1\" class=\"dataframe\">\n",
              "  <thead>\n",
              "    <tr style=\"text-align: right;\">\n",
              "      <th></th>\n",
              "      <th>target</th>\n",
              "      <th>text</th>\n",
              "      <th>spam</th>\n",
              "      <th>length</th>\n",
              "    </tr>\n",
              "  </thead>\n",
              "  <tbody>\n",
              "    <tr>\n",
              "      <th>0</th>\n",
              "      <td>ham</td>\n",
              "      <td>Go until jurong point, crazy.. Available only ...</td>\n",
              "      <td>0</td>\n",
              "      <td>111</td>\n",
              "    </tr>\n",
              "    <tr>\n",
              "      <th>1</th>\n",
              "      <td>ham</td>\n",
              "      <td>Ok lar... Joking wif u oni...</td>\n",
              "      <td>0</td>\n",
              "      <td>29</td>\n",
              "    </tr>\n",
              "    <tr>\n",
              "      <th>2</th>\n",
              "      <td>spam</td>\n",
              "      <td>Free entry in 2 a wkly comp to win FA Cup fina...</td>\n",
              "      <td>1</td>\n",
              "      <td>155</td>\n",
              "    </tr>\n",
              "    <tr>\n",
              "      <th>3</th>\n",
              "      <td>ham</td>\n",
              "      <td>U dun say so early hor... U c already then say...</td>\n",
              "      <td>0</td>\n",
              "      <td>49</td>\n",
              "    </tr>\n",
              "    <tr>\n",
              "      <th>4</th>\n",
              "      <td>ham</td>\n",
              "      <td>Nah I don't think he goes to usf, he lives aro...</td>\n",
              "      <td>0</td>\n",
              "      <td>61</td>\n",
              "    </tr>\n",
              "  </tbody>\n",
              "</table>\n",
              "</div>\n",
              "      <button class=\"colab-df-convert\" onclick=\"convertToInteractive('df-bc561f67-5557-418a-8172-ed4c1f0563d7')\"\n",
              "              title=\"Convert this dataframe to an interactive table.\"\n",
              "              style=\"display:none;\">\n",
              "        \n",
              "  <svg xmlns=\"http://www.w3.org/2000/svg\" height=\"24px\"viewBox=\"0 0 24 24\"\n",
              "       width=\"24px\">\n",
              "    <path d=\"M0 0h24v24H0V0z\" fill=\"none\"/>\n",
              "    <path d=\"M18.56 5.44l.94 2.06.94-2.06 2.06-.94-2.06-.94-.94-2.06-.94 2.06-2.06.94zm-11 1L8.5 8.5l.94-2.06 2.06-.94-2.06-.94L8.5 2.5l-.94 2.06-2.06.94zm10 10l.94 2.06.94-2.06 2.06-.94-2.06-.94-.94-2.06-.94 2.06-2.06.94z\"/><path d=\"M17.41 7.96l-1.37-1.37c-.4-.4-.92-.59-1.43-.59-.52 0-1.04.2-1.43.59L10.3 9.45l-7.72 7.72c-.78.78-.78 2.05 0 2.83L4 21.41c.39.39.9.59 1.41.59.51 0 1.02-.2 1.41-.59l7.78-7.78 2.81-2.81c.8-.78.8-2.07 0-2.86zM5.41 20L4 18.59l7.72-7.72 1.47 1.35L5.41 20z\"/>\n",
              "  </svg>\n",
              "      </button>\n",
              "      \n",
              "  <style>\n",
              "    .colab-df-container {\n",
              "      display:flex;\n",
              "      flex-wrap:wrap;\n",
              "      gap: 12px;\n",
              "    }\n",
              "\n",
              "    .colab-df-convert {\n",
              "      background-color: #E8F0FE;\n",
              "      border: none;\n",
              "      border-radius: 50%;\n",
              "      cursor: pointer;\n",
              "      display: none;\n",
              "      fill: #1967D2;\n",
              "      height: 32px;\n",
              "      padding: 0 0 0 0;\n",
              "      width: 32px;\n",
              "    }\n",
              "\n",
              "    .colab-df-convert:hover {\n",
              "      background-color: #E2EBFA;\n",
              "      box-shadow: 0px 1px 2px rgba(60, 64, 67, 0.3), 0px 1px 3px 1px rgba(60, 64, 67, 0.15);\n",
              "      fill: #174EA6;\n",
              "    }\n",
              "\n",
              "    [theme=dark] .colab-df-convert {\n",
              "      background-color: #3B4455;\n",
              "      fill: #D2E3FC;\n",
              "    }\n",
              "\n",
              "    [theme=dark] .colab-df-convert:hover {\n",
              "      background-color: #434B5C;\n",
              "      box-shadow: 0px 1px 3px 1px rgba(0, 0, 0, 0.15);\n",
              "      filter: drop-shadow(0px 1px 2px rgba(0, 0, 0, 0.3));\n",
              "      fill: #FFFFFF;\n",
              "    }\n",
              "  </style>\n",
              "\n",
              "      <script>\n",
              "        const buttonEl =\n",
              "          document.querySelector('#df-bc561f67-5557-418a-8172-ed4c1f0563d7 button.colab-df-convert');\n",
              "        buttonEl.style.display =\n",
              "          google.colab.kernel.accessAllowed ? 'block' : 'none';\n",
              "\n",
              "        async function convertToInteractive(key) {\n",
              "          const element = document.querySelector('#df-bc561f67-5557-418a-8172-ed4c1f0563d7');\n",
              "          const dataTable =\n",
              "            await google.colab.kernel.invokeFunction('convertToInteractive',\n",
              "                                                     [key], {});\n",
              "          if (!dataTable) return;\n",
              "\n",
              "          const docLinkHtml = 'Like what you see? Visit the ' +\n",
              "            '<a target=\"_blank\" href=https://colab.research.google.com/notebooks/data_table.ipynb>data table notebook</a>'\n",
              "            + ' to learn more about interactive tables.';\n",
              "          element.innerHTML = '';\n",
              "          dataTable['output_type'] = 'display_data';\n",
              "          await google.colab.output.renderOutput(dataTable, element);\n",
              "          const docLink = document.createElement('div');\n",
              "          docLink.innerHTML = docLinkHtml;\n",
              "          element.appendChild(docLink);\n",
              "        }\n",
              "      </script>\n",
              "    </div>\n",
              "  </div>\n",
              "  "
            ],
            "text/plain": [
              "  target                                               text  spam  length\n",
              "0    ham  Go until jurong point, crazy.. Available only ...     0     111\n",
              "1    ham                      Ok lar... Joking wif u oni...     0      29\n",
              "2   spam  Free entry in 2 a wkly comp to win FA Cup fina...     1     155\n",
              "3    ham  U dun say so early hor... U c already then say...     0      49\n",
              "4    ham  Nah I don't think he goes to usf, he lives aro...     0      61"
            ]
          },
          "execution_count": 67,
          "metadata": {},
          "output_type": "execute_result"
        }
      ],
      "source": [
        "data.head()"
      ]
    },
    {
      "cell_type": "markdown",
      "metadata": {
        "id": "wdWgrLxELR2a"
      },
      "source": [
        "Now let's \"tokenize\" these messages. **Tokenization** is just the term used to describe the process of converting the normal text strings in to a list of tokens (words that we actually want).\n",
        "\n",
        "Let's see an example output on on column:"
      ]
    },
    {
      "cell_type": "code",
      "execution_count": 69,
      "metadata": {
        "colab": {
          "base_uri": "https://localhost:8080/"
        },
        "id": "91Se-C_sLmk5",
        "outputId": "dff14e75-f87d-4a2d-d6b8-4eb74612202a"
      },
      "outputs": [
        {
          "name": "stdout",
          "output_type": "stream",
          "text": [
            "[nltk_data] Downloading package stopwords to /root/nltk_data...\n",
            "[nltk_data]   Unzipping corpora/stopwords.zip.\n"
          ]
        },
        {
          "data": {
            "text/plain": [
              "True"
            ]
          },
          "execution_count": 69,
          "metadata": {},
          "output_type": "execute_result"
        }
      ],
      "source": [
        "import nltk\n",
        "nltk.download('stopwords')"
      ]
    },
    {
      "cell_type": "code",
      "execution_count": 70,
      "metadata": {
        "colab": {
          "base_uri": "https://localhost:8080/"
        },
        "id": "64WlRxGaLbyF",
        "outputId": "1c2b73a1-31d3-4c3d-d514-dd86eaaf12e3"
      },
      "outputs": [
        {
          "data": {
            "text/plain": [
              "0    [Go, jurong, point, crazy, Available, bugis, n...\n",
              "1                       [Ok, lar, Joking, wif, u, oni]\n",
              "2    [Free, entry, 2, wkly, comp, win, FA, Cup, fin...\n",
              "3        [U, dun, say, early, hor, U, c, already, say]\n",
              "4    [Nah, dont, think, goes, usf, lives, around, t...\n",
              "Name: text, dtype: object"
            ]
          },
          "execution_count": 70,
          "metadata": {},
          "output_type": "execute_result"
        }
      ],
      "source": [
        "# Check to make sure its working\n",
        "data['text'].head(5).apply(text_process)"
      ]
    },
    {
      "cell_type": "markdown",
      "metadata": {
        "id": "MxJj5pn-LfSC"
      },
      "source": [
        "### 4-1 Continuing Normalization\n",
        "\n",
        "There are a lot of ways to continue normalizing this text. Such as Stemming or distinguishing by part of speech.\n",
        "\n",
        "NLTK has lots of built-in tools and great documentation on a lot of these methods."
      ]
    },
    {
      "cell_type": "markdown",
      "metadata": {
        "id": "_3-3QF5lLwu-"
      },
      "source": [
        "### 4-2 Vectorization"
      ]
    },
    {
      "cell_type": "markdown",
      "metadata": {
        "id": "-6oXDj34MBP1"
      },
      "source": [
        "Currently, we have the messages as lists of tokens (also known as lemmas) and now we need to convert each of those messages into a vector the SciKit Learn's algorithm models can work with.\n",
        "\n",
        "![image.png](data:image/png;base64,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)"
      ]
    },
    {
      "cell_type": "code",
      "execution_count": 71,
      "metadata": {
        "id": "zBD8J6XxMbOm"
      },
      "outputs": [],
      "source": [
        "from sklearn.feature_extraction.text import CountVectorizer"
      ]
    },
    {
      "cell_type": "code",
      "execution_count": 73,
      "metadata": {
        "colab": {
          "base_uri": "https://localhost:8080/"
        },
        "id": "N_ldvwRHMbMA",
        "outputId": "3a777ada-25a7-4066-fba2-8bead63f1e6b"
      },
      "outputs": [
        {
          "name": "stdout",
          "output_type": "stream",
          "text": [
            "11304\n"
          ]
        }
      ],
      "source": [
        "bow_transformer = CountVectorizer(analyzer=text_process).fit(data['text'])\n",
        "\n",
        "# Print total number of vocab words\n",
        "print(len(bow_transformer.vocabulary_))"
      ]
    },
    {
      "cell_type": "markdown",
      "metadata": {
        "id": "YYZeOkT2MHoO"
      },
      "source": [
        "Let's take one text message and get its bag-of-words counts as a vector, putting to use our new `bow_transformer`:"
      ]
    },
    {
      "cell_type": "code",
      "execution_count": 74,
      "metadata": {
        "colab": {
          "base_uri": "https://localhost:8080/"
        },
        "id": "4QWKEwauMHw9",
        "outputId": "1c61af1a-22e1-49bd-e0ac-330f95bff230"
      },
      "outputs": [
        {
          "name": "stdout",
          "output_type": "stream",
          "text": [
            "U dun say so early hor... U c already then say...\n"
          ]
        }
      ],
      "source": [
        "data4 = data['text'][3]\n",
        "print(data4)"
      ]
    },
    {
      "cell_type": "markdown",
      "metadata": {
        "id": "QjUUDKT0MH02"
      },
      "source": [
        "Now let's see its vector representation:"
      ]
    },
    {
      "cell_type": "code",
      "execution_count": 75,
      "metadata": {
        "colab": {
          "base_uri": "https://localhost:8080/"
        },
        "id": "uZt1u0UhMH3-",
        "outputId": "89f28c49-2c27-4c20-c0ca-b5ff81e73b95"
      },
      "outputs": [
        {
          "name": "stdout",
          "output_type": "stream",
          "text": [
            "  (0, 3996)\t2\n",
            "  (0, 4551)\t1\n",
            "  (0, 5179)\t1\n",
            "  (0, 6118)\t1\n",
            "  (0, 6136)\t1\n",
            "  (0, 7091)\t1\n",
            "  (0, 9445)\t2\n",
            "(1, 11304)\n"
          ]
        }
      ],
      "source": [
        "bow4 = bow_transformer.transform([data4])\n",
        "print(bow4)\n",
        "print(bow4.shape)"
      ]
    },
    {
      "cell_type": "markdown",
      "metadata": {
        "id": "ROYcsLMWMH61"
      },
      "source": [
        "This means that there are seven unique words in message number 4 (after removing common stop words). Two of them appear twice, the rest only once. Let's go ahead and check and confirm which ones appear twice:"
      ]
    },
    {
      "cell_type": "code",
      "execution_count": 78,
      "metadata": {
        "colab": {
          "base_uri": "https://localhost:8080/"
        },
        "id": "wBqQsgWfMH9d",
        "outputId": "017b1ca4-b4d9-4e13-8475-ad6822394efc"
      },
      "outputs": [
        {
          "name": "stdout",
          "output_type": "stream",
          "text": [
            "VALUED\n",
            "shades\n"
          ]
        }
      ],
      "source": [
        "print(bow_transformer.get_feature_names()[4073])\n",
        "print(bow_transformer.get_feature_names()[9570])"
      ]
    },
    {
      "cell_type": "markdown",
      "metadata": {
        "id": "eNPib2xANTs6"
      },
      "source": [
        "Now we can use `.transform` on our Bag-of-Words (bow) transformed object and transform the entire DataFrame of messages. Let's go ahead and check out how the bag-of-words counts for the entire SMS corpus is a large, sparse matrix:"
      ]
    },
    {
      "cell_type": "code",
      "execution_count": 79,
      "metadata": {
        "id": "fTTrIS9ZNrbF"
      },
      "outputs": [],
      "source": [
        "data_bow = bow_transformer.transform(data['text'])"
      ]
    },
    {
      "cell_type": "code",
      "execution_count": 80,
      "metadata": {
        "colab": {
          "base_uri": "https://localhost:8080/"
        },
        "id": "zi4-Jm2TNw7r",
        "outputId": "8c8ef146-f61a-4938-ca6c-e792df55a584"
      },
      "outputs": [
        {
          "name": "stdout",
          "output_type": "stream",
          "text": [
            "Shape of Sparse Matrix:  (5572, 11304)\n",
            "Amount of Non-Zero occurences:  50193\n"
          ]
        }
      ],
      "source": [
        "print('Shape of Sparse Matrix: ', data_bow.shape)\n",
        "print('Amount of Non-Zero occurences: ', data_bow.nnz)"
      ]
    },
    {
      "cell_type": "code",
      "execution_count": 81,
      "metadata": {
        "colab": {
          "base_uri": "https://localhost:8080/"
        },
        "id": "P9KsueSLN0h6",
        "outputId": "dd507eb2-57ba-416d-e1b5-9a89e48f818a"
      },
      "outputs": [
        {
          "name": "stdout",
          "output_type": "stream",
          "text": [
            "sparsity: 0\n"
          ]
        }
      ],
      "source": [
        "sparsity = (100.0 * data_bow.nnz / (data_bow.shape[0] * data_bow.shape[1]))\n",
        "print('sparsity: {}'.format(round(sparsity)))"
      ]
    },
    {
      "cell_type": "markdown",
      "metadata": {
        "id": "j_2-OcLQN3l5"
      },
      "source": [
        "### 4-3. What is TF-IDF?\n",
        "\n",
        "**TF-IDF** stands for term frequency-inverse document frequency, and the tf-idf weight is a weight often used in information retrieval and text mining. This weight is a statistical measure used to evaluate how important a word is to a document in a collection or corpus. The importance increases proportionally to the number of times a word appears in the document but is offset by the frequency of the word in the corpus. Variations of the tf-idf weighting scheme are often used by search engines as a central tool in scoring and ranking a document's relevance given a user query."
      ]
    },
    {
      "cell_type": "code",
      "execution_count": 82,
      "metadata": {
        "colab": {
          "base_uri": "https://localhost:8080/"
        },
        "id": "zbzQjEiyN9tF",
        "outputId": "307fe026-3ac4-4bbb-dba5-fe72d22bf57c"
      },
      "outputs": [
        {
          "name": "stdout",
          "output_type": "stream",
          "text": [
            "  (0, 9445)\t0.5391515179363724\n",
            "  (0, 7091)\t0.438375519235493\n",
            "  (0, 6136)\t0.3183143011307023\n",
            "  (0, 6118)\t0.2991551295536476\n",
            "  (0, 5179)\t0.2969195675145299\n",
            "  (0, 4551)\t0.26585776633899993\n",
            "  (0, 3996)\t0.40924708612713756\n"
          ]
        }
      ],
      "source": [
        "from sklearn.feature_extraction.text import TfidfTransformer\n",
        "\n",
        "tfidf_transformer = TfidfTransformer().fit(data_bow)\n",
        "tfidf4 = tfidf_transformer.transform(bow4)\n",
        "print(tfidf4)"
      ]
    },
    {
      "cell_type": "markdown",
      "metadata": {
        "id": "6JKlSh2IOiDZ"
      },
      "source": [
        "We'll go ahead and check what is the IDF (inverse document frequency) of the word `\"u\"` and of word `\"university\"`?"
      ]
    },
    {
      "cell_type": "code",
      "execution_count": 83,
      "metadata": {
        "colab": {
          "base_uri": "https://localhost:8080/"
        },
        "id": "JAs_hUl8OsHX",
        "outputId": "ba040996-e883-4178-ff01-3fab8b62637d"
      },
      "outputs": [
        {
          "name": "stdout",
          "output_type": "stream",
          "text": [
            "3.288863056423095\n",
            "8.527076498901426\n"
          ]
        }
      ],
      "source": [
        "print(tfidf_transformer.idf_[bow_transformer.vocabulary_['u']])\n",
        "print(tfidf_transformer.idf_[bow_transformer.vocabulary_['university']])"
      ]
    },
    {
      "cell_type": "markdown",
      "metadata": {
        "id": "43TnkFrMOtXy"
      },
      "source": [
        "To transform the entire bag-of-words corpus into TF-IDF corpus at once:"
      ]
    },
    {
      "cell_type": "code",
      "execution_count": 84,
      "metadata": {
        "colab": {
          "base_uri": "https://localhost:8080/"
        },
        "id": "T17YS4DLOvMy",
        "outputId": "fdad864e-f25f-4286-ef58-b06a6b3a3fe5"
      },
      "outputs": [
        {
          "name": "stdout",
          "output_type": "stream",
          "text": [
            "(5572, 11304)\n"
          ]
        }
      ],
      "source": [
        "data_tfidf = tfidf_transformer.transform(data_bow)\n",
        "print(data_tfidf.shape)"
      ]
    },
    {
      "cell_type": "markdown",
      "metadata": {
        "id": "7iKqE_2TO0aj"
      },
      "source": [
        "There are many ways the data can be preprocessed and vectorized. These steps involve feature engineering and building a \"pipeline\". I encourage you to check out SciKit Learn's documentation on dealing with text data as well as the expansive collection of available papers and books on the general topic of NLP."
      ]
    },
    {
      "cell_type": "markdown",
      "metadata": {
        "id": "PgUGYQnlO3nu"
      },
      "source": [
        "## 5. Model Training\n",
        "We'll be using scikit-learn here, choosing the Naive Bayes classifier to start with:"
      ]
    },
    {
      "cell_type": "code",
      "execution_count": 85,
      "metadata": {
        "id": "DZHrJs-xPWBZ"
      },
      "outputs": [],
      "source": [
        "from sklearn.naive_bayes import MultinomialNB\n",
        "spam_detect_model = MultinomialNB().fit(data_tfidf, data['target'])"
      ]
    },
    {
      "cell_type": "markdown",
      "metadata": {
        "id": "jntXy-JMPVt9"
      },
      "source": [
        "Let's try classifying our single random message and checking how we do:"
      ]
    },
    {
      "cell_type": "code",
      "execution_count": 87,
      "metadata": {
        "colab": {
          "base_uri": "https://localhost:8080/"
        },
        "id": "7HD_6-xcPVYP",
        "outputId": "4f15fd9d-2928-431d-a9d2-f05f806ed80e"
      },
      "outputs": [
        {
          "name": "stdout",
          "output_type": "stream",
          "text": [
            "predicted: ham\n",
            "expected: ham\n"
          ]
        }
      ],
      "source": [
        "print('predicted:', spam_detect_model.predict(tfidf4)[0])\n",
        "print('expected:', data.target[3])"
      ]
    },
    {
      "cell_type": "markdown",
      "metadata": {
        "id": "cmHwCMU9PVN1"
      },
      "source": [
        "Fantastic! We've developed a model that can attempt to predict spam vs ham classification!"
      ]
    },
    {
      "cell_type": "markdown",
      "metadata": {
        "id": "gKKMbqE0PU8_"
      },
      "source": [
        "## 6. Model Evaluation\n",
        "Now we want to determine how well our model will do overall on the entire dataset. Let's begin by getting all the predictions:"
      ]
    },
    {
      "cell_type": "code",
      "execution_count": 88,
      "metadata": {
        "colab": {
          "base_uri": "https://localhost:8080/"
        },
        "id": "vWSDc9O1PwHj",
        "outputId": "c3cd672e-d2b1-433e-c223-dac650a75366"
      },
      "outputs": [
        {
          "name": "stdout",
          "output_type": "stream",
          "text": [
            "['ham' 'ham' 'spam' ... 'ham' 'ham' 'ham']\n"
          ]
        }
      ],
      "source": [
        "all_predictions = spam_detect_model.predict(data_tfidf)\n",
        "print(all_predictions)"
      ]
    },
    {
      "cell_type": "markdown",
      "metadata": {
        "id": "I2rrMx4VPytj"
      },
      "source": [
        "We can use SciKit Learn's built-in classification report, which returns precision, recall, f1-score, and a column for support (meaning how many cases supported that classification). Check out the links for more detailed info on each of these metrics and the figure below:"
      ]
    },
    {
      "cell_type": "code",
      "execution_count": 89,
      "metadata": {
        "colab": {
          "base_uri": "https://localhost:8080/"
        },
        "id": "Gv1WWoKdP1O0",
        "outputId": "70d97ac4-beb9-41ca-e363-a437683b08cf"
      },
      "outputs": [
        {
          "name": "stdout",
          "output_type": "stream",
          "text": [
            "              precision    recall  f1-score   support\n",
            "\n",
            "         ham       0.98      1.00      0.99      4825\n",
            "        spam       1.00      0.85      0.92       747\n",
            "\n",
            "    accuracy                           0.98      5572\n",
            "   macro avg       0.99      0.92      0.95      5572\n",
            "weighted avg       0.98      0.98      0.98      5572\n",
            "\n"
          ]
        }
      ],
      "source": [
        "from sklearn.metrics import classification_report\n",
        "print (classification_report(data['target'], all_predictions))"
      ]
    },
    {
      "cell_type": "markdown",
      "metadata": {
        "id": "AdLAdjvyP8Km"
      },
      "source": [
        "There are quite a few possible metrics for evaluating model performance. Which one is the most important depends on the task and the business effects of decisions based off of the model. For example, the cost of mis-predicting \"spam\" as \"ham\" is probably much lower than mis-predicting \"ham\" as \"spam\".\n",
        "\n",
        "<br/>\n",
        "\n",
        "In the above \"evaluation\", we evaluated accuracy on the same data we used for training. **You should never actually evaluate on the same dataset you train on!**\n",
        "\n",
        "Such evaluation tells us nothing about the true predictive power of our model. If we simply remembered each example during training, the accuracy on training data would trivially be 100%, even though we wouldn't be able to classify any new messages.\n",
        "\n",
        "<br/>\n",
        "\n",
        "A proper way is to split the data into a training/test set, where the model only ever sees the **training data** during its model fitting and parameter tuning. The **test data** is never used in any way. This is then our final evaluation on test data is representative of true predictive performance."
      ]
    },
    {
      "cell_type": "markdown",
      "metadata": {
        "id": "_yYnApxAQUgm"
      },
      "source": [
        "## 7. Train Test Split"
      ]
    },
    {
      "cell_type": "code",
      "execution_count": 90,
      "metadata": {
        "colab": {
          "base_uri": "https://localhost:8080/"
        },
        "id": "SxTA9Z3eQhyy",
        "outputId": "e61f4a7f-3dee-4549-ba7f-d9597fbc363d"
      },
      "outputs": [
        {
          "name": "stdout",
          "output_type": "stream",
          "text": [
            "4457 1115 5572\n"
          ]
        }
      ],
      "source": [
        "from sklearn.model_selection import train_test_split\n",
        "\n",
        "msg_train, msg_test, label_train, label_test = \\\n",
        "train_test_split(data['text'], data['target'], test_size=0.2)\n",
        "\n",
        "print(len(msg_train), len(msg_test), len(msg_train) + len(msg_test))"
      ]
    },
    {
      "cell_type": "markdown",
      "metadata": {
        "id": "7MdE13TlQdTT"
      },
      "source": [
        "## 8. Data Pipeline\n",
        "Let's run our model again and then predict off the test set. We will use SciKit Learn's pipeline capabilities to store a pipeline of workflow. This will allow us to set up all the transformations that we will do to the data for future use. Let's see an example of how it works:"
      ]
    },
    {
      "cell_type": "code",
      "execution_count": 91,
      "metadata": {
        "id": "uBx6ufHYQswt"
      },
      "outputs": [],
      "source": [
        "from sklearn.pipeline import Pipeline\n",
        "\n",
        "pipeline = Pipeline([\n",
        "    ('bow', CountVectorizer(analyzer=text_process)),\n",
        "    ('tfidf', TfidfTransformer()),\n",
        "    ('classifier', MultinomialNB()),\n",
        "])"
      ]
    },
    {
      "cell_type": "markdown",
      "metadata": {
        "id": "Qk5z6u38QvlB"
      },
      "source": [
        "Now we can directly pass message text data and the pipeline will do our pre-processing for us! We can treat it as a model/estimator API:"
      ]
    },
    {
      "cell_type": "code",
      "execution_count": 92,
      "metadata": {
        "colab": {
          "base_uri": "https://localhost:8080/"
        },
        "id": "ZNrKXay-Qz_8",
        "outputId": "3ce3da68-1868-42fb-d1a6-2049dd4611c4"
      },
      "outputs": [
        {
          "data": {
            "text/plain": [
              "Pipeline(steps=[('bow',\n",
              "                 CountVectorizer(analyzer=<function text_process at 0x7fd64ab3e0e0>)),\n",
              "                ('tfidf', TfidfTransformer()),\n",
              "                ('classifier', MultinomialNB())])"
            ]
          },
          "execution_count": 92,
          "metadata": {},
          "output_type": "execute_result"
        }
      ],
      "source": [
        "pipeline.fit(msg_train,label_train)"
      ]
    },
    {
      "cell_type": "code",
      "execution_count": 93,
      "metadata": {
        "id": "SZZtxLU2Q0Ci"
      },
      "outputs": [],
      "source": [
        "predictions = pipeline.predict(msg_test)"
      ]
    },
    {
      "cell_type": "code",
      "execution_count": 94,
      "metadata": {
        "colab": {
          "base_uri": "https://localhost:8080/"
        },
        "id": "XlMbPa1XQ0E_",
        "outputId": "6d2fc56a-245c-498b-8937-c5ac1f531a34"
      },
      "outputs": [
        {
          "name": "stdout",
          "output_type": "stream",
          "text": [
            "              precision    recall  f1-score   support\n",
            "\n",
            "         ham       1.00      0.95      0.98      1005\n",
            "        spam       0.71      1.00      0.83       110\n",
            "\n",
            "    accuracy                           0.96      1115\n",
            "   macro avg       0.85      0.98      0.90      1115\n",
            "weighted avg       0.97      0.96      0.96      1115\n",
            "\n"
          ]
        }
      ],
      "source": [
        "print(classification_report(predictions,label_test))"
      ]
    },
    {
      "cell_type": "markdown",
      "metadata": {
        "id": "-zFK7i7xQ0HW"
      },
      "source": [
        "Now we have a classification report for our model on a true testing set! There is a lot more to Natural Language Processing than what we've covered here, and its vast expanse of topic could fill up several college courses! I encourage you to check out other resources on NLP!"
      ]
    }
  ],
  "metadata": {
    "colab": {
      "collapsed_sections": [],
      "name": "Spam_Or_Ham:SMS_Classifier.ipynb",
      "provenance": []
    },
    "kernelspec": {
      "display_name": "Python 3",
      "name": "python3"
    },
    "language_info": {
      "name": "python"
    }
  },
  "nbformat": 4,
  "nbformat_minor": 0
}
